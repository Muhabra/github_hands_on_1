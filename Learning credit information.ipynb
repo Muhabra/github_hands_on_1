{
 "cells": [
  {
   "cell_type": "markdown",
   "id": "1159c39a",
   "metadata": {},
   "source": [
    "# Confirmation of competition details"
   ]
  },
  {
   "cell_type": "markdown",
   "id": "22e37340",
   "metadata": {},
   "source": [
    "- Learn to use alternative data such as telcom and transactional history to broaden financial inclusion among the unbanking population and to acurately predict their ability to repay the loan.\n",
    "- The file to create is called SK_ID_CURR which would predict a probability for the TARGET variable. The file contains a header and have the following format:\n",
    "\n",
    "SK_ID_CURR,TARGET\n",
    "\n",
    "100001,0.1\n",
    "\n",
    "100005,0.9\n",
    "\n",
    "100013,0.2\n",
    "etc.\n",
    "\n",
    "- Submissions are evaluated on area under the Receiver operating characteristic (ROC) curve between the predicted probability and the observed target"
   ]
  },
  {
   "cell_type": "markdown",
   "id": "54631102",
   "metadata": {},
   "source": [
    "# Learning and Verification"
   ]
  },
  {
   "cell_type": "markdown",
   "id": "7507de67",
   "metadata": {},
   "source": [
    "- import necessary libraries\n",
    "- load relevant data\n",
    "- deleting null data\n",
    "- extracting target variables"
   ]
  },
  {
   "cell_type": "code",
   "execution_count": 9,
   "id": "acdbeb0c",
   "metadata": {},
   "outputs": [],
   "source": [
    "import pandas as pd\n",
    "from sklearn.preprocessing import StandardScaler\n",
    "from sklearn.model_selection import train_test_split\n",
    "from sklearn.metrics import mean_squared_error\n",
    "from sklearn.linear_model import LinearRegression\n",
    "from sklearn.metrics import roc_auc_score\n",
    "\n",
    "df = pd.read_csv('application_train.csv')\n",
    "\n",
    "na_df = df.dropna()\n",
    "\n",
    "x = na_df.loc[:,['AMT_INCOME_TOTAL','AMT_CREDIT','AMT_ANNUITY']]\n",
    "y = na_df['TARGET']"
   ]
  },
  {
   "cell_type": "code",
   "execution_count": 10,
   "id": "ec9e0c6d",
   "metadata": {},
   "outputs": [
    {
     "data": {
      "text/html": [
       "<div>\n",
       "<style scoped>\n",
       "    .dataframe tbody tr th:only-of-type {\n",
       "        vertical-align: middle;\n",
       "    }\n",
       "\n",
       "    .dataframe tbody tr th {\n",
       "        vertical-align: top;\n",
       "    }\n",
       "\n",
       "    .dataframe thead th {\n",
       "        text-align: right;\n",
       "    }\n",
       "</style>\n",
       "<table border=\"1\" class=\"dataframe\">\n",
       "  <thead>\n",
       "    <tr style=\"text-align: right;\">\n",
       "      <th></th>\n",
       "      <th>SK_ID_CURR</th>\n",
       "      <th>TARGET</th>\n",
       "      <th>NAME_CONTRACT_TYPE</th>\n",
       "      <th>CODE_GENDER</th>\n",
       "      <th>FLAG_OWN_CAR</th>\n",
       "      <th>FLAG_OWN_REALTY</th>\n",
       "      <th>CNT_CHILDREN</th>\n",
       "      <th>AMT_INCOME_TOTAL</th>\n",
       "      <th>AMT_CREDIT</th>\n",
       "      <th>AMT_ANNUITY</th>\n",
       "      <th>...</th>\n",
       "      <th>FLAG_DOCUMENT_18</th>\n",
       "      <th>FLAG_DOCUMENT_19</th>\n",
       "      <th>FLAG_DOCUMENT_20</th>\n",
       "      <th>FLAG_DOCUMENT_21</th>\n",
       "      <th>AMT_REQ_CREDIT_BUREAU_HOUR</th>\n",
       "      <th>AMT_REQ_CREDIT_BUREAU_DAY</th>\n",
       "      <th>AMT_REQ_CREDIT_BUREAU_WEEK</th>\n",
       "      <th>AMT_REQ_CREDIT_BUREAU_MON</th>\n",
       "      <th>AMT_REQ_CREDIT_BUREAU_QRT</th>\n",
       "      <th>AMT_REQ_CREDIT_BUREAU_YEAR</th>\n",
       "    </tr>\n",
       "  </thead>\n",
       "  <tbody>\n",
       "    <tr>\n",
       "      <th>0</th>\n",
       "      <td>100002</td>\n",
       "      <td>1</td>\n",
       "      <td>Cash loans</td>\n",
       "      <td>M</td>\n",
       "      <td>N</td>\n",
       "      <td>Y</td>\n",
       "      <td>0</td>\n",
       "      <td>202500.0</td>\n",
       "      <td>406597.5</td>\n",
       "      <td>24700.5</td>\n",
       "      <td>...</td>\n",
       "      <td>0</td>\n",
       "      <td>0</td>\n",
       "      <td>0</td>\n",
       "      <td>0</td>\n",
       "      <td>0.0</td>\n",
       "      <td>0.0</td>\n",
       "      <td>0.0</td>\n",
       "      <td>0.0</td>\n",
       "      <td>0.0</td>\n",
       "      <td>1.0</td>\n",
       "    </tr>\n",
       "    <tr>\n",
       "      <th>1</th>\n",
       "      <td>100003</td>\n",
       "      <td>0</td>\n",
       "      <td>Cash loans</td>\n",
       "      <td>F</td>\n",
       "      <td>N</td>\n",
       "      <td>N</td>\n",
       "      <td>0</td>\n",
       "      <td>270000.0</td>\n",
       "      <td>1293502.5</td>\n",
       "      <td>35698.5</td>\n",
       "      <td>...</td>\n",
       "      <td>0</td>\n",
       "      <td>0</td>\n",
       "      <td>0</td>\n",
       "      <td>0</td>\n",
       "      <td>0.0</td>\n",
       "      <td>0.0</td>\n",
       "      <td>0.0</td>\n",
       "      <td>0.0</td>\n",
       "      <td>0.0</td>\n",
       "      <td>0.0</td>\n",
       "    </tr>\n",
       "    <tr>\n",
       "      <th>2</th>\n",
       "      <td>100004</td>\n",
       "      <td>0</td>\n",
       "      <td>Revolving loans</td>\n",
       "      <td>M</td>\n",
       "      <td>Y</td>\n",
       "      <td>Y</td>\n",
       "      <td>0</td>\n",
       "      <td>67500.0</td>\n",
       "      <td>135000.0</td>\n",
       "      <td>6750.0</td>\n",
       "      <td>...</td>\n",
       "      <td>0</td>\n",
       "      <td>0</td>\n",
       "      <td>0</td>\n",
       "      <td>0</td>\n",
       "      <td>0.0</td>\n",
       "      <td>0.0</td>\n",
       "      <td>0.0</td>\n",
       "      <td>0.0</td>\n",
       "      <td>0.0</td>\n",
       "      <td>0.0</td>\n",
       "    </tr>\n",
       "    <tr>\n",
       "      <th>3</th>\n",
       "      <td>100006</td>\n",
       "      <td>0</td>\n",
       "      <td>Cash loans</td>\n",
       "      <td>F</td>\n",
       "      <td>N</td>\n",
       "      <td>Y</td>\n",
       "      <td>0</td>\n",
       "      <td>135000.0</td>\n",
       "      <td>312682.5</td>\n",
       "      <td>29686.5</td>\n",
       "      <td>...</td>\n",
       "      <td>0</td>\n",
       "      <td>0</td>\n",
       "      <td>0</td>\n",
       "      <td>0</td>\n",
       "      <td>NaN</td>\n",
       "      <td>NaN</td>\n",
       "      <td>NaN</td>\n",
       "      <td>NaN</td>\n",
       "      <td>NaN</td>\n",
       "      <td>NaN</td>\n",
       "    </tr>\n",
       "    <tr>\n",
       "      <th>4</th>\n",
       "      <td>100007</td>\n",
       "      <td>0</td>\n",
       "      <td>Cash loans</td>\n",
       "      <td>M</td>\n",
       "      <td>N</td>\n",
       "      <td>Y</td>\n",
       "      <td>0</td>\n",
       "      <td>121500.0</td>\n",
       "      <td>513000.0</td>\n",
       "      <td>21865.5</td>\n",
       "      <td>...</td>\n",
       "      <td>0</td>\n",
       "      <td>0</td>\n",
       "      <td>0</td>\n",
       "      <td>0</td>\n",
       "      <td>0.0</td>\n",
       "      <td>0.0</td>\n",
       "      <td>0.0</td>\n",
       "      <td>0.0</td>\n",
       "      <td>0.0</td>\n",
       "      <td>0.0</td>\n",
       "    </tr>\n",
       "  </tbody>\n",
       "</table>\n",
       "<p>5 rows × 122 columns</p>\n",
       "</div>"
      ],
      "text/plain": [
       "   SK_ID_CURR  TARGET NAME_CONTRACT_TYPE CODE_GENDER FLAG_OWN_CAR  \\\n",
       "0      100002       1         Cash loans           M            N   \n",
       "1      100003       0         Cash loans           F            N   \n",
       "2      100004       0    Revolving loans           M            Y   \n",
       "3      100006       0         Cash loans           F            N   \n",
       "4      100007       0         Cash loans           M            N   \n",
       "\n",
       "  FLAG_OWN_REALTY  CNT_CHILDREN  AMT_INCOME_TOTAL  AMT_CREDIT  AMT_ANNUITY  \\\n",
       "0               Y             0          202500.0    406597.5      24700.5   \n",
       "1               N             0          270000.0   1293502.5      35698.5   \n",
       "2               Y             0           67500.0    135000.0       6750.0   \n",
       "3               Y             0          135000.0    312682.5      29686.5   \n",
       "4               Y             0          121500.0    513000.0      21865.5   \n",
       "\n",
       "   ...  FLAG_DOCUMENT_18 FLAG_DOCUMENT_19 FLAG_DOCUMENT_20 FLAG_DOCUMENT_21  \\\n",
       "0  ...                 0                0                0                0   \n",
       "1  ...                 0                0                0                0   \n",
       "2  ...                 0                0                0                0   \n",
       "3  ...                 0                0                0                0   \n",
       "4  ...                 0                0                0                0   \n",
       "\n",
       "  AMT_REQ_CREDIT_BUREAU_HOUR AMT_REQ_CREDIT_BUREAU_DAY  \\\n",
       "0                        0.0                       0.0   \n",
       "1                        0.0                       0.0   \n",
       "2                        0.0                       0.0   \n",
       "3                        NaN                       NaN   \n",
       "4                        0.0                       0.0   \n",
       "\n",
       "   AMT_REQ_CREDIT_BUREAU_WEEK  AMT_REQ_CREDIT_BUREAU_MON  \\\n",
       "0                         0.0                        0.0   \n",
       "1                         0.0                        0.0   \n",
       "2                         0.0                        0.0   \n",
       "3                         NaN                        NaN   \n",
       "4                         0.0                        0.0   \n",
       "\n",
       "   AMT_REQ_CREDIT_BUREAU_QRT  AMT_REQ_CREDIT_BUREAU_YEAR  \n",
       "0                        0.0                         1.0  \n",
       "1                        0.0                         0.0  \n",
       "2                        0.0                         0.0  \n",
       "3                        NaN                         NaN  \n",
       "4                        0.0                         0.0  \n",
       "\n",
       "[5 rows x 122 columns]"
      ]
     },
     "execution_count": 10,
     "metadata": {},
     "output_type": "execute_result"
    }
   ],
   "source": [
    "df.head()"
   ]
  },
  {
   "cell_type": "markdown",
   "id": "8e112c0d",
   "metadata": {},
   "source": [
    "Spliting the data into train and test using sklearn\n",
    "- data standardization\n",
    "- data fitting and prediction"
   ]
  },
  {
   "cell_type": "code",
   "execution_count": 11,
   "id": "3feb4df3",
   "metadata": {},
   "outputs": [
    {
     "name": "stdout",
     "output_type": "stream",
     "text": [
      "MSE: 0.052153197403226256\n",
      "ROC 0.5938285747369815\n"
     ]
    }
   ],
   "source": [
    "x_train, x_test, y_train, y_test = train_test_split(x, y, test_size=0.25, random_state=42)\n",
    "\n",
    "scaler = StandardScaler()\n",
    "scaler.fit(x_train)\n",
    "x_train_trans = scaler.transform(x_train)\n",
    "x_test_trans = scaler.transform(x_test)\n",
    "\n",
    "reg = LinearRegression().fit(x_train_trans, y_train)\n",
    "\n",
    "reg_pred = reg.predict(x_test_trans)\n",
    "\n",
    "print('MSE:', mean_squared_error(y_true=y_test, y_pred=reg_pred))\n",
    "print('ROC', roc_auc_score(y_test,reg_pred))"
   ]
  },
  {
   "cell_type": "markdown",
   "id": "b94dd130",
   "metadata": {},
   "source": [
    "The MSE is tilted towards zero indicating a very low error"
   ]
  },
  {
   "cell_type": "markdown",
   "id": "94a06720",
   "metadata": {},
   "source": [
    "# Estimation for test data"
   ]
  },
  {
   "cell_type": "code",
   "execution_count": 14,
   "id": "47b20b91",
   "metadata": {},
   "outputs": [],
   "source": [
    "test_df = pd.read_csv('application_test.csv')\n",
    "\n",
    "na_df = test_df.dropna(axis=0)\n",
    "\n",
    "test_x = na_df.loc[:,['AMT_INCOME_TOTAL','AMT_CREDIT','AMT_ANNUITY']]\n",
    "                      \n",
    "test_scaler = StandardScaler()\n",
    "test_x_test_trans = scaler.fit_transform(test_x)\n",
    "\n",
    "test_reg_pred = reg.predict(test_x_test_trans)\n",
    "\n",
    "                      \n",
    "#Submission to Kaggle\n",
    "                      \n",
    "kgl_submission = pd.concat([test_df['SK_ID_CURR'], pd.Series(test_reg_pred, name='TARGET')], axis=1)\n",
    "kgl_submission = kgl_submission.fillna(0)\n",
    "kgl_submission.at[648,'TARGET']= 0\n",
    "kgl_submission.shape\n",
    "kgl_submission.to_csv('kggl_submission.csv', index=False)                      "
   ]
  },
  {
   "cell_type": "markdown",
   "id": "53f05dd8",
   "metadata": {},
   "source": [
    "# Feature engineering"
   ]
  },
  {
   "cell_type": "markdown",
   "id": "def500ac",
   "metadata": {},
   "source": [
    "The following 5 perspectives were considered based on:\n",
    "\n",
    "- which feature to use\n",
    "- how to pre-process"
   ]
  },
  {
   "cell_type": "code",
   "execution_count": 19,
   "id": "26f0242f",
   "metadata": {
    "scrolled": true
   },
   "outputs": [
    {
     "name": "stdout",
     "output_type": "stream",
     "text": [
      "Collecting lightgbm\n",
      "  Downloading lightgbm-3.3.5-py3-none-win_amd64.whl (1.0 MB)\n",
      "     ---------------------------------------- 1.0/1.0 MB 10.9 MB/s eta 0:00:00\n",
      "Requirement already satisfied: numpy in c:\\users\\ibrahim\\anaconda3\\lib\\site-packages (from lightgbm) (1.21.5)\n",
      "Requirement already satisfied: scipy in c:\\users\\ibrahim\\anaconda3\\lib\\site-packages (from lightgbm) (1.9.1)\n",
      "Requirement already satisfied: scikit-learn!=0.22.0 in c:\\users\\ibrahim\\anaconda3\\lib\\site-packages (from lightgbm) (1.0.2)\n",
      "Requirement already satisfied: wheel in c:\\users\\ibrahim\\anaconda3\\lib\\site-packages (from lightgbm) (0.37.1)\n",
      "Requirement already satisfied: threadpoolctl>=2.0.0 in c:\\users\\ibrahim\\anaconda3\\lib\\site-packages (from scikit-learn!=0.22.0->lightgbm) (2.2.0)\n",
      "Requirement already satisfied: joblib>=0.11 in c:\\users\\ibrahim\\anaconda3\\lib\\site-packages (from scikit-learn!=0.22.0->lightgbm) (1.1.0)\n",
      "Installing collected packages: lightgbm\n",
      "Successfully installed lightgbm-3.3.5\n",
      "Note: you may need to restart the kernel to use updated packages.\n"
     ]
    }
   ],
   "source": [
    "pip install lightgbm"
   ]
  },
  {
   "cell_type": "code",
   "execution_count": 22,
   "id": "5f163369",
   "metadata": {},
   "outputs": [
    {
     "name": "stdout",
     "output_type": "stream",
     "text": [
      "accuracy: 0.9446768944676894\n"
     ]
    }
   ],
   "source": [
    "# Pattern 1\n",
    "\n",
    "# Imputation\n",
    "\n",
    "import numpy as np\n",
    "from sklearn.impute import SimpleImputer\n",
    "from sklearn.metrics import accuracy_score\n",
    "\n",
    "imp_mean = SimpleImputer(strategy='mean')\n",
    "\n",
    "# deleting the missing values\n",
    "\n",
    "imp_x = imp_mean.fit_transform(x)\n",
    "\n",
    "# One hot encoding\n",
    "from sklearn.preprocessing import OneHotEncoder\n",
    "enc = OneHotEncoder(handle_unknown='ignore')\n",
    "enc_imp_x = enc.fit_transform(imp_x).toarray()\n",
    "\n",
    "# Splitting the data\n",
    "x_train_1, x_test_1, y_train_1,y_test_1 = train_test_split(enc_imp_x, y, test_size=0.25, random_state=42)\n",
    "\n",
    "# Data standardization\n",
    "scaler = StandardScaler()\n",
    "scaler.fit(x_train_1)\n",
    "x_train_trans_1 = scaler.transform(x_train_1)\n",
    "x_test_trans_1 = scaler.transform(x_test_1)\n",
    "\n",
    "# Fitting the data\n",
    "from lightgbm import LGBMClassifier\n",
    "lgbm = LGBMClassifier(random_state=5)\n",
    "lgb = lgbm.fit(x_train_trans_1, y_train_1)\n",
    "\n",
    "# Predicting\n",
    "reg_pred_a = lgb.predict(x_test_trans_1)\n",
    "\n",
    "print('accuracy:', accuracy_score(y_test_1, reg_pred_a))\n"
   ]
  },
  {
   "cell_type": "code",
   "execution_count": 25,
   "id": "331fe8b7",
   "metadata": {},
   "outputs": [
    {
     "name": "stdout",
     "output_type": "stream",
     "text": [
      "accuracy: 0.9446768944676894\n"
     ]
    }
   ],
   "source": [
    "# Pattern 2\n",
    "\n",
    "imp_median = SimpleImputer(strategy='median')\n",
    "\n",
    "# deleting the missing values\n",
    "\n",
    "imp_x_a = imp_median.fit_transform(x)\n",
    "\n",
    "# One hot encoding\n",
    "from sklearn.preprocessing import OneHotEncoder\n",
    "enc_a = OneHotEncoder(handle_unknown='ignore')\n",
    "enc_imp_x_a = enc.fit_transform(imp_x).toarray()\n",
    "\n",
    "# Splitting the data\n",
    "x_train_a, x_test_a, y_train_a, y_test_a = train_test_split(enc_imp_x_a, y, test_size=0.25, random_state=42)\n",
    "\n",
    "# Data standardization\n",
    "scaler = StandardScaler()\n",
    "scaler.fit(x_train_a)\n",
    "x_train_trans_a = scaler.transform(x_train_a)\n",
    "x_test_trans_a = scaler.transform(x_test_a)\n",
    "\n",
    "# Fitting the data\n",
    "from lightgbm import LGBMClassifier\n",
    "lgbm = LGBMClassifier(random_state=5)\n",
    "lgb = lgbm.fit(x_train_trans_a, y_train_a)\n",
    "\n",
    "# Predicting\n",
    "reg_pred_b = lgb.predict(x_test_trans_a)\n",
    "\n",
    "print('accuracy:', accuracy_score(y_test_1, reg_pred_b))"
   ]
  },
  {
   "cell_type": "code",
   "execution_count": 26,
   "id": "daa3e969",
   "metadata": {
    "scrolled": true
   },
   "outputs": [
    {
     "name": "stderr",
     "output_type": "stream",
     "text": [
      "C:\\Users\\Ibrahim\\anaconda3\\lib\\site-packages\\sklearn\\impute\\_base.py:49: FutureWarning: Unlike other reduction functions (e.g. `skew`, `kurtosis`), the default behavior of `mode` typically preserves the axis it acts along. In SciPy 1.11.0, this behavior will change: the default value of `keepdims` will become False, the `axis` over which the statistic is taken will be eliminated, and the value None will no longer be accepted. Set `keepdims` to True or False to avoid this warning.\n",
      "  mode = stats.mode(array)\n"
     ]
    },
    {
     "name": "stdout",
     "output_type": "stream",
     "text": [
      "accuracy: 0.9446768944676894\n"
     ]
    }
   ],
   "source": [
    "# Pattern 3\n",
    "\n",
    "imp_mf = SimpleImputer(strategy='most_frequent')\n",
    "\n",
    "# deleting the missing values\n",
    "\n",
    "imp_x_c = imp_mf.fit_transform(x)\n",
    "\n",
    "# One hot encoding\n",
    "from sklearn.preprocessing import OneHotEncoder\n",
    "enc_c = OneHotEncoder(handle_unknown='ignore')\n",
    "enc_imp_x_c = enc.fit_transform(imp_x_c).toarray()\n",
    "\n",
    "# Splitting the data\n",
    "x_train_c, x_test_c, y_train_c, y_test_c = train_test_split(enc_imp_x_c, y, test_size=0.25, random_state=42)\n",
    "\n",
    "# Data standardization\n",
    "scaler = StandardScaler()\n",
    "scaler.fit(x_train_c)\n",
    "x_train_trans_c = scaler.transform(x_train_c)\n",
    "x_test_trans_c = scaler.transform(x_test_c)\n",
    "\n",
    "# Fitting the data\n",
    "from lightgbm import LGBMClassifier\n",
    "lgbm_c = LGBMClassifier(random_state=5)\n",
    "lgb_c = lgbm.fit(x_train_trans_c, y_train_c)\n",
    "\n",
    "# Predicting\n",
    "reg_pred_d = lgb_c.predict(x_test_trans_c)\n",
    "\n",
    "print('accuracy:', accuracy_score(y_test_c, reg_pred_d))"
   ]
  },
  {
   "cell_type": "code",
   "execution_count": 27,
   "id": "15ea0c0f",
   "metadata": {},
   "outputs": [
    {
     "name": "stdout",
     "output_type": "stream",
     "text": [
      "accuracy: 0.9446768944676894\n"
     ]
    }
   ],
   "source": [
    "# Pattern 4\n",
    "\n",
    "imp_cons = SimpleImputer(strategy='constant')\n",
    "\n",
    "# deleting the missing values\n",
    "\n",
    "imp_x_d = imp_cons.fit_transform(x)\n",
    "\n",
    "# One hot encoding\n",
    "from sklearn.preprocessing import OneHotEncoder\n",
    "enc_d = OneHotEncoder(handle_unknown='ignore')\n",
    "enc_imp_x_d = enc.fit_transform(imp_x_d).toarray()\n",
    "\n",
    "# Splitting the data\n",
    "x_train_d, x_test_d, y_train_d, y_test_d = train_test_split(enc_imp_x_d, y, test_size=0.25, random_state=42)\n",
    "\n",
    "# Data standardization\n",
    "scaler = StandardScaler()\n",
    "scaler.fit(x_train_d)\n",
    "x_train_trans_d = scaler.transform(x_train_d)\n",
    "x_test_trans_d = scaler.transform(x_test_d)\n",
    "\n",
    "# Fitting the data\n",
    "from lightgbm import LGBMClassifier\n",
    "lgbm = LGBMClassifier(random_state=5)\n",
    "lgb = lgbm.fit(x_train_trans_d, y_train_d)\n",
    "\n",
    "# Predicting\n",
    "reg_pred_e = lgb.predict(x_test_trans_d)\n",
    "\n",
    "print('accuracy:', accuracy_score(y_test_d, reg_pred_e))"
   ]
  },
  {
   "cell_type": "code",
   "execution_count": null,
   "id": "3c9debbf",
   "metadata": {},
   "outputs": [],
   "source": []
  }
 ],
 "metadata": {
  "kernelspec": {
   "display_name": "Python 3 (ipykernel)",
   "language": "python",
   "name": "python3"
  },
  "language_info": {
   "codemirror_mode": {
    "name": "ipython",
    "version": 3
   },
   "file_extension": ".py",
   "mimetype": "text/x-python",
   "name": "python",
   "nbconvert_exporter": "python",
   "pygments_lexer": "ipython3",
   "version": "3.9.13"
  }
 },
 "nbformat": 4,
 "nbformat_minor": 5
}
