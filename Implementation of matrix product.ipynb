{
 "cells": [
  {
   "cell_type": "code",
   "execution_count": 1,
   "id": "244ab5e6",
   "metadata": {},
   "outputs": [],
   "source": [
    "import numpy as np\n",
    "a_ndarray = np.array([[-1, 2, 3], [4, -5, 6], [7, 8, -9]])\n",
    "b_ndarray = np.array([[0, 2, 1], [0, 2, -8], [2, 9, -1]])"
   ]
  },
  {
   "cell_type": "markdown",
   "id": "b42434f4",
   "metadata": {},
   "source": [
    "Each element of the Product matrix AB can be calculated as follows:\n",
    "\n",
    "AB11 = -1×0 + 2×0 + 3×2 = 6\n",
    "AB12 = -1×2 + 2×2 + 3×9 = 29\n",
    "AB13 = -1×1 + 2×-8 + 3×-1 = -20\n",
    "AB21 = 4×0 + -5×0 + 6×2 = 12\n",
    "AB22 = 4×2 + -5×2 + 6×9 = 52\n",
    "AB23 = 4×1 + -5×-8 + 6×-1 = 38\n",
    "AB31 = 7×0 + 8×0 + -9×2 = -18\n",
    "AB32 = 7×2 + 8×2 + -9×9 = -51\n",
    "AB33 = 7×1 + 8×-8 + -9×-1 = -48\n",
    "\n",
    "product_ab = np.array([[6,29,-20],\n",
    "                        [12,52,38],\n",
    "                        [-18,-51,-48]]"
   ]
  },
  {
   "cell_type": "code",
   "execution_count": 2,
   "id": "2516d260",
   "metadata": {},
   "outputs": [
    {
     "data": {
      "text/plain": [
       "array([[  6,  29, -20],\n",
       "       [ 12,  52,  38],\n",
       "       [-18, -51, -48]])"
      ]
     },
     "execution_count": 2,
     "metadata": {},
     "output_type": "execute_result"
    }
   ],
   "source": [
    "import numpy as np\n",
    "a = np.array([[-1, 2, 3], [4, -5, 6], [7, 8, -9]])\n",
    "b = np.array([[0, 2, 1], [0, 2, -8], [2, 9, -1]])\n",
    "np.matmul(a, b)"
   ]
  },
  {
   "cell_type": "code",
   "execution_count": 3,
   "id": "4dddae85",
   "metadata": {},
   "outputs": [
    {
     "name": "stdout",
     "output_type": "stream",
     "text": [
      "The calculation of 0th row of matrix a and that of matrix b is: 6\n"
     ]
    }
   ],
   "source": [
    "print(f'The calculation of 0th row of matrix a and that of matrix b is:', a_ndarray[0,0]*b_ndarray[0,0] + a_ndarray[0,1]*b_ndarray[1,0] + a_ndarray[0,2]*b_ndarray[2,0])"
   ]
  },
  {
   "cell_type": "code",
   "execution_count": 4,
   "id": "fc180012",
   "metadata": {},
   "outputs": [
    {
     "name": "stdout",
     "output_type": "stream",
     "text": [
      "[[  6.  29. -20.]\n",
      " [ 12.  52.  38.]\n",
      " [-18. -51. -48.]]\n"
     ]
    }
   ],
   "source": [
    "import numpy as np\n",
    "def matrix_multiplication(matrix_a, matrix_b):\n",
    "    mat = np.zeros(9)\n",
    "    product = mat.reshape(3,3)\n",
    "    \n",
    "    for x in range(len(matrix_a)):\n",
    "        for y in range(len(matrix_b)):\n",
    "            for z in range(len(matrix_b)):\n",
    "                product[x][y] += matrix_a[x][z] * matrix_b[z][y]\n",
    "    print(product)\n",
    "matrix_multiplication(a_ndarray, b_ndarray)"
   ]
  },
  {
   "cell_type": "code",
   "execution_count": 5,
   "id": "5c657b09",
   "metadata": {},
   "outputs": [
    {
     "name": "stdout",
     "output_type": "stream",
     "text": [
      "Hey! those matrices are not aligned\n"
     ]
    }
   ],
   "source": [
    "d_ndarray = np.array([[-1, 2, 3], [4, -5, 6]])\n",
    "e_ndarray = np.array([[-9, 8, 7], [6, -5, 4]])\n",
    "\n",
    "if d_ndarray.shape[0] == e_ndarray.shape[1]:\n",
    "    print(product_of_matrix(d_ndarray, e_ndarray))\n",
    "else:           \n",
    "    print(\"Hey! those matrices are not aligned\")"
   ]
  },
  {
   "cell_type": "code",
   "execution_count": 6,
   "id": "51d97c37",
   "metadata": {},
   "outputs": [
    {
     "name": "stdout",
     "output_type": "stream",
     "text": [
      "product of matrix when transposed is:\n"
     ]
    },
    {
     "data": {
      "text/plain": [
       "array([[ 14,  69, -40],\n",
       "       [ 16,  66,  34],\n",
       "       [-18, -63, -36]])"
      ]
     },
     "execution_count": 6,
     "metadata": {},
     "output_type": "execute_result"
    }
   ],
   "source": [
    "print('product of matrix when transposed is:')\n",
    "np.dot(a_ndarray.T,b_ndarray)"
   ]
  }
 ],
 "metadata": {
  "kernelspec": {
   "display_name": "Python 3 (ipykernel)",
   "language": "python",
   "name": "python3"
  },
  "language_info": {
   "codemirror_mode": {
    "name": "ipython",
    "version": 3
   },
   "file_extension": ".py",
   "mimetype": "text/x-python",
   "name": "python",
   "nbconvert_exporter": "python",
   "pygments_lexer": "ipython3",
   "version": "3.9.13"
  }
 },
 "nbformat": 4,
 "nbformat_minor": 5
}
