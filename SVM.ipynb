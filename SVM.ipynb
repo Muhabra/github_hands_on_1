{
 "cells": [
  {
   "cell_type": "markdown",
   "id": "233a6da5",
   "metadata": {},
   "source": [
    " # Sprint Machine Learning Scratch SVM"
   ]
  },
  {
   "cell_type": "code",
   "execution_count": 2,
   "id": "cc50afea",
   "metadata": {},
   "outputs": [],
   "source": [
    "import numpy as np\n",
    "import pandas as pd"
   ]
  },
  {
   "cell_type": "markdown",
   "id": "8eb94220",
   "metadata": {},
   "source": [
    "**SVM scratch**"
   ]
  },
  {
   "cell_type": "code",
   "execution_count": 3,
   "id": "8a9bebbb",
   "metadata": {},
   "outputs": [],
   "source": [
    "class  ScratchSVMClassifier():\n",
    "    def __init__(self, num_iter, lr, kernel= 'linear' , threshold = 1e-5 , verbose = False):\n",
    "        self.iter = num_iter\n",
    "        self.lr = lr\n",
    "        self.verbose = verbose\n",
    "        self.kernel = kernel\n",
    "        self.val_loss = np.zeros(self.iter)\n",
    "        self.threshold = threshold\n",
    "    \n",
    "    def _kernel(self,X1,X2):\n",
    "        if self.kernel == 'linear':\n",
    "            return np.dot(X1,X2.T)\n",
    "        else:\n",
    "            # polynomial kernel\n",
    "            return (1*np.dot(X1,X2.T)+1)**2\n",
    "    \n",
    "    def fit(self, X, y, X_val=None, y_val=None):\n",
    "        \n",
    "        # creating lamda from random data\n",
    "        self.lamda_1 = np.random.rand(len(X))\n",
    "\n",
    "        # Lagrange descent\n",
    "        for i in range(self.iter):\n",
    "            \n",
    "            # updating lamda on each iteration\n",
    "            for i_x in range(len(X)):\n",
    "                counter = 0\n",
    "                for id_x in range(len(X)):\n",
    "                    counter += self.lamda_1[id_x]*y[i_x]*y[id_x]*self._kernel(X[i_x],X[id_x])\n",
    "\n",
    "                self.lamda_1[i_x] += self.lr*(1-counter)\n",
    "\n",
    "                if self.lamda_1[i_x] < 0:\n",
    "                    self.lamda_1[i_x] = 0\n",
    "            \n",
    "            # getting the support vectors\n",
    "            self.X_supportvectors = X[self.lamda_1 > self.threshold]\n",
    "            self.y_supportvectors = y[self.lamda_1 > self.threshold]\n",
    "            self.lamda_supportvectors = self.lamda_1[self.lamda_1 > self.threshold]\n",
    "                    \n",
    "    def predict(self, X):\n",
    "        \n",
    "        y_pred = np.zeros(len(X))\n",
    "        \n",
    "        # predicting using the support vectors\n",
    "        for i in range(len(X)):\n",
    "            counter_sv = 0\n",
    "            for sv in range(len(self.X_supportvectors)):\n",
    "                counter_sv += self.lamda_supportvectors[sv]*self.y_supportvectors[sv]*self._kernel(X[i],self.X_supportvectors[sv])\n",
    "            if counter_sv >= 0:\n",
    "                y_pred[i] = 1\n",
    "            else:\n",
    "                y_pred[i] = 0\n",
    "                \n",
    "        return y_pred"
   ]
  },
  {
   "cell_type": "markdown",
   "id": "0850d025",
   "metadata": {},
   "source": [
    "# Problem 1 and 2 are implemented in the ScratchSVMClassifier class above"
   ]
  },
  {
   "cell_type": "markdown",
   "id": "5aacccb1",
   "metadata": {},
   "source": [
    "# Problem 3: Estimated"
   ]
  },
  {
   "cell_type": "code",
   "execution_count": null,
   "id": "d77b0c1f",
   "metadata": {},
   "outputs": [],
   "source": [
    "# Importing dataset\n",
    "from sklearn import datasets\n",
    "x, y = datasets.make_blobs(n_sample=50, n_features=2, centres=2, cluster_std=1.05, random_state=40)\n",
    "y = np.where(y == 0, -1, 1)"
   ]
  },
  {
   "cell_type": "code",
   "execution_count": 5,
   "id": "10e13f20",
   "metadata": {},
   "outputs": [],
   "source": [
    "# splitting the data into learning and estimation\n",
    "from sklearn.model_selection import train_test_split\n",
    "\n",
    "X_train, X_test, y_train, y_test = train_test_split(X, y,test_size=0.2)"
   ]
  },
  {
   "cell_type": "code",
   "execution_count": 6,
   "id": "a0e49179",
   "metadata": {},
   "outputs": [
    {
     "data": {
      "text/plain": [
       "array([1., 0., 1., 0., 0., 1., 0., 1., 1., 1.])"
      ]
     },
     "execution_count": 6,
     "metadata": {},
     "output_type": "execute_result"
    }
   ],
   "source": [
    "# doing the estimation\n",
    "clf = ScratchSVMClassifier(num_iter=500, lr=0.01, verbose=False)\n",
    "clf.fit(X_train, y_train)\n",
    "y_pred = clf.predict(X_test)\n",
    "y_pred"
   ]
  },
  {
   "cell_type": "markdown",
   "id": "35142712",
   "metadata": {},
   "source": [
    "## Learning and estimation"
   ]
  },
  {
   "cell_type": "markdown",
   "id": "cf9f39e2",
   "metadata": {},
   "source": [
    "- Learn and estimate the scratch implementation for the binary classification of Simple Dataset 1 prepared in the Sprint, an introduction to machine learning scratch.\n",
    "- Compare this with the scikit-learn implementation and see if it works correctly\n",
    "- Use scikit-learn for indicator values such as Accuracy, Precision and Recall."
   ]
  },
  {
   "cell_type": "code",
   "execution_count": 7,
   "id": "fa8995c6",
   "metadata": {},
   "outputs": [
    {
     "name": "stdout",
     "output_type": "stream",
     "text": [
      "accuracy 0.6\n",
      "precision 0.6\n",
      "recall 0.6\n",
      "f1 0.6\n"
     ]
    },
    {
     "name": "stderr",
     "output_type": "stream",
     "text": [
      "C:\\Users\\Ibrahim\\anaconda3\\lib\\site-packages\\sklearn\\metrics\\_classification.py:1318: UndefinedMetricWarning: Precision is ill-defined and being set to 0.0 in labels with no predicted samples. Use `zero_division` parameter to control this behavior.\n",
      "  _warn_prf(average, modifier, msg_start, len(result))\n",
      "C:\\Users\\Ibrahim\\anaconda3\\lib\\site-packages\\sklearn\\metrics\\_classification.py:1318: UndefinedMetricWarning: Recall is ill-defined and being set to 0.0 in labels with no true samples. Use `zero_division` parameter to control this behavior.\n",
      "  _warn_prf(average, modifier, msg_start, len(result))\n"
     ]
    }
   ],
   "source": [
    "from sklearn.metrics import accuracy_score\n",
    "from sklearn.metrics import precision_score\n",
    "from sklearn.metrics import recall_score\n",
    "from sklearn.metrics import f1_score\n",
    "\n",
    "accuracy = accuracy_score(y_test, y_pred)\n",
    "precision = precision_score(y_test, y_pred, average='weighted')\n",
    "recall = recall_score(y_test, y_pred, average='weighted')\n",
    "f1 = f1_score(y_test, y_pred, average='weighted')\n",
    "\n",
    "print('accuracy',accuracy)\n",
    "print('precision',precision)\n",
    "print('recall',recall)\n",
    "print('f1',f1)"
   ]
  },
  {
   "cell_type": "markdown",
   "id": "2c62e5d4",
   "metadata": {},
   "source": [
    "## Visualization of decision areas"
   ]
  },
  {
   "cell_type": "code",
   "execution_count": 8,
   "id": "247a7af3",
   "metadata": {},
   "outputs": [
    {
     "data": {
      "image/png": "[encoded data removed]",
      "text/plain": [
       "<Figure size 640x480 with 1 Axes>"
      ]
     },
     "metadata": {},
     "output_type": "display_data"
    }
   ],
   "source": [
    "import matplotlib.pyplot as plt\n",
    "from matplotlib.colors import ListedColormap\n",
    "import matplotlib.patches as mpatches\n",
    "\n",
    "def decision_region(X, y, model, step=0.01, title='decision region', xlabel='xlabel', ylabel='ylabel', target_names=['versicolor', 'virginica']):\n",
    "    # setting\n",
    "    scatter_color = ['brown', 'yellow']\n",
    "    contourf_color = ['pink', 'skyblue']\n",
    "    n_class = 2\n",
    "    # pred\n",
    "    mesh_f0, mesh_f1  = np.meshgrid(np.arange(np.min(X[:,0])-0.5, np.max(X[:,0])+0.5, step), np.arange(np.min(X[:,1])-0.5, np.max(X[:,1])+0.5, step))\n",
    "    mesh = np.c_[np.ravel(mesh_f0),np.ravel(mesh_f1)]\n",
    "    y_pred = model.predict(mesh).reshape(mesh_f0.shape)\n",
    "    # plot\n",
    "    plt.title(title)\n",
    "    plt.xlabel(xlabel)\n",
    "    plt.ylabel(ylabel)\n",
    "    plt.contourf(mesh_f0, mesh_f1, y_pred, n_class-1, cmap=ListedColormap(contourf_color))\n",
    "    plt.contour(mesh_f0, mesh_f1, y_pred, n_class-1, colors='y', linewidths=3, alpha=0.5)\n",
    "    for i, target in enumerate(set(y)):\n",
    "        plt.scatter(X[y==target][:, 0], X[y==target][:, 1], s=80, color=scatter_color[i], label=target_names[i], marker='o')\n",
    "    patches = [mpatches.Patch(color=scatter_color[i], label=target_names[i]) for i in range(n_class)]\n",
    "    # displaying the support vectors\n",
    "    plt.scatter(model.X_supportvectors[:,0],model.X_supportvectors[:,1],color='green',s=80,label='support vector')\n",
    "    plt.legend(handles=patches)\n",
    "    plt.legend()\n",
    "    plt.show()\n",
    "\n",
    "decision_region(X_train,y_train,clf,title='Train',target_names=['0', ' 1'])"
   ]
  },
  {
   "cell_type": "markdown",
   "id": "85e08574",
   "metadata": {},
   "source": [
    "# Creation of polynomial kernel function"
   ]
  },
  {
   "cell_type": "code",
   "execution_count": 9,
   "id": "82c8c2a1",
   "metadata": {},
   "outputs": [
    {
     "data": {
      "text/plain": [
       "array([1., 0., 1., 0., 0., 1., 0., 1., 1., 1.])"
      ]
     },
     "execution_count": 9,
     "metadata": {},
     "output_type": "execute_result"
    }
   ],
   "source": [
    "clf = ScratchSVMClassifier(num_iter=500, lr=0.01, kernel= 'polynomial',verbose=False)\n",
    "clf.fit(X_train, y_train)\n",
    "y_pred = clf.predict(X_test)\n",
    "y_pred"
   ]
  },
  {
   "cell_type": "code",
   "execution_count": null,
   "id": "0ee9561b",
   "metadata": {},
   "outputs": [],
   "source": []
  }
 ],
 "metadata": {
  "kernelspec": {
   "display_name": "Python 3 (ipykernel)",
   "language": "python",
   "name": "python3"
  },
  "language_info": {
   "codemirror_mode": {
    "name": "ipython",
    "version": 3
   },
   "file_extension": ".py",
   "mimetype": "text/x-python",
   "name": "python",
   "nbconvert_exporter": "python",
   "pygments_lexer": "ipython3",
   "version": "3.9.13"
  }
 },
 "nbformat": 4,
 "nbformat_minor": 5
}
