{
 "cells": [
  {
   "cell_type": "markdown",
   "id": "2327a4f2",
   "metadata": {},
   "source": [
    "# [Problem 1] Function for finding impureness"
   ]
  },
  {
   "cell_type": "markdown",
   "id": "b3a08461",
   "metadata": {},
   "source": [
    "- Function to calculate Gini impurity of a node is given as \n",
    "$$I(i)=1-\\sum_{i=1}^K P^2(C_i|t)=1-\\sum_{i=1}^K(\\frac{N_{t,i}}{N_{t,all}})^2$$"
   ]
  },
  {
   "cell_type": "markdown",
   "id": "fcaf1bfc",
   "metadata": {},
   "source": [
    "Where:\n",
    "1. **t** is the node index\n",
    "2. **i** is class index\n",
    "3. **K** is the number of classes\n",
    "4. **C_i** is the i-th class\n",
    "5. **P(C_i|t)** is the percentage of the C_i on the t-th class\n",
    "6. **N_t,i** is the number of samples belonging to the i-th class of the t-th node\n",
    "7. **N_t,all** is the total number of samples for the t-th node"
   ]
  },
  {
   "cell_type": "markdown",
   "id": "684b2c1d",
   "metadata": {},
   "source": [
    "###Comparing the results of the manual calculation with the function gives the following:\n",
    "\n",
    "1. Class 1: Number of samples 15, Class 2: Number of samples 15 → Gini impure 0.500\n",
    "2. Class 1: Number of samples 15, Class 2: Number of samples 15, Class 3: Number of samples 15 → Gini impure 0.667\n",
    "3. Class 1: Number of samples 18, Class 2: Number of samples 12 → Gini impure 0.480\n",
    "4. Class 1: Number of samples 30, Class 2: Number of samples 0 → Gini impure 0.000"
   ]
  },
  {
   "cell_type": "code",
   "execution_count": 1,
   "id": "5e407d8b",
   "metadata": {},
   "outputs": [],
   "source": [
    "# import the dependencies\n",
    "import numpy as np\n",
    "import scipy.stats as stats\n",
    "from sklearn.datasets import load_iris\n",
    "from sklearn.model_selection import train_test_split\n",
    "from sklearn.neighbors import KNeighborsClassifier\n",
    "from sklearn.metrics import confusion_matrix\n",
    "from sklearn.metrics import precision_score\n",
    "from sklearn.metrics import recall_score\n",
    "from sklearn.metrics import f1_score\n",
    "import matplotlib.pyplot as plt\n",
    "from matplotlib.colors import ListedColormap\n",
    "import matplotlib.patches as mpatches"
   ]
  },
  {
   "cell_type": "code",
   "execution_count": 2,
   "id": "571d4c17",
   "metadata": {},
   "outputs": [],
   "source": [
    "def gini_impurity(n_t, c_n):\n",
    "    a = 0\n",
    "    for i in c_n:   \n",
    "        a += (i/n_t) ** 2\n",
    "    gini=1 - a \n",
    "    return gini"
   ]
  },
  {
   "cell_type": "code",
   "execution_count": 3,
   "id": "0b276b37",
   "metadata": {},
   "outputs": [
    {
     "data": {
      "text/plain": [
       "0.5"
      ]
     },
     "execution_count": 3,
     "metadata": {},
     "output_type": "execute_result"
    }
   ],
   "source": [
    "gini_impurity(30, [15.0 ,15.0])"
   ]
  },
  {
   "cell_type": "code",
   "execution_count": 4,
   "id": "e9e7c1b9",
   "metadata": {},
   "outputs": [
    {
     "data": {
      "text/plain": [
       "0.6666666666666667"
      ]
     },
     "execution_count": 4,
     "metadata": {},
     "output_type": "execute_result"
    }
   ],
   "source": [
    "gini_impurity(45,[15, 15, 15])"
   ]
  },
  {
   "cell_type": "code",
   "execution_count": 5,
   "id": "450f9333",
   "metadata": {},
   "outputs": [
    {
     "data": {
      "text/plain": [
       "0.48"
      ]
     },
     "execution_count": 5,
     "metadata": {},
     "output_type": "execute_result"
    }
   ],
   "source": [
    "gini_impurity(30,[18, 12])"
   ]
  },
  {
   "cell_type": "code",
   "execution_count": 6,
   "id": "5e2aadbe",
   "metadata": {},
   "outputs": [
    {
     "data": {
      "text/plain": [
       "0.0"
      ]
     },
     "execution_count": 6,
     "metadata": {},
     "output_type": "execute_result"
    }
   ],
   "source": [
    "gini_impurity(30,[30, 0])"
   ]
  },
  {
   "cell_type": "markdown",
   "id": "7757fa7e",
   "metadata": {},
   "source": [
    "*****Problem 2: Function for obtaining information gain*****\n",
    "\n",
    "Information gain or **IG** is calculated by the following formula\n",
    "\n",
    "$$\n",
    "IG(p)=I(p)-\\frac{N_{left,all}}{N_{p,all}}I(left)-\\frac{N_{right}}{N_{p,all}}I(right)\n",
    "$$\n",
    "\n",
    "where:\n",
    "1. **p** is the index indicating the parent node\n",
    "2. **left** is the index indicating the left-hand node\n",
    "3. **right** is the index indicating the right-hand node\n",
    "\n",
    "Lets make a simple example and compare the results of the manual calculation with the function.\n",
    "\n",
    "Left node class 1: Number of samples 10, Left node class 2: Number of samples 30, <br>\n",
    "Right node class 1: Number of samples 20, Right node class 2: Number of samples 5 → Information gain 0.143"
   ]
  },
  {
   "cell_type": "code",
   "execution_count": 7,
   "id": "e601fe8e",
   "metadata": {},
   "outputs": [],
   "source": [
    "def information_gain(ln_class,rn_class):\n",
    "    n1 = sum(ln_class)\n",
    "    n2 = sum(rn_class)\n",
    "    p_sample = n1 + n2\n",
    "    p_class = ln_class + rn_class\n",
    "    p_gini = gini_impurity(p_sample, p_class)\n",
    "    gini_n1 = gini_impurity(n1, ln_class)\n",
    "    gini_n2 = gini_impurity(n2, rn_class)\n",
    "    print(p_class)\n",
    "    IG = p_gini - ((n1/p_sample)*gini_n1) - ((n2/p_sample)*gini_n2)\n",
    "    return IG"
   ]
  },
  {
   "cell_type": "code",
   "execution_count": 8,
   "id": "a12adc79",
   "metadata": {},
   "outputs": [
    {
     "name": "stdout",
     "output_type": "stream",
     "text": [
      "[30 35]\n"
     ]
    },
    {
     "data": {
      "text/plain": [
       "0.14319526627218937"
      ]
     },
     "execution_count": 8,
     "metadata": {},
     "output_type": "execute_result"
    }
   ],
   "source": [
    "information_gain(np.array([10,30]),np.array([20,5]))"
   ]
  },
  {
   "cell_type": "markdown",
   "id": "c0ec65b5",
   "metadata": {},
   "source": [
    "# <div class =\"alert alert-block alert-success\" style='text-align:center'>\n",
    "<h2> Decision tree From scratch</h2>\n",
    "</div>"
   ]
  },
  {
   "cell_type": "markdown",
   "id": "7e36be44",
   "metadata": {},
   "source": [
    "We will start by writting the name of our class which is going to be\n",
    "```\n",
    "class ScratchDecesionTreeClassifier():\n",
    "\n",
    "```"
   ]
  },
  {
   "cell_type": "markdown",
   "id": "a6ed46f4",
   "metadata": {},
   "source": [
    "### fit function\n",
    "\n",
    "In our decision tree classifier we will create our tree in the fit function, by checking the gini impurity and information gain and also coming up with thresholds by which we will use to split our data as we are going down on each depth in our tree\n",
    "\n",
    "Our fit function will take in the **X** and the **y** data\n",
    "\n",
    "```\n",
    "model.fit(X,y)\n",
    "```\n",
    "\n",
    "We will start by creating the variables that will store the maximum value of our information gain and also the threshold \n",
    "\n",
    "```\n",
    "self.list_info_gain_max = []\n",
    "self.threshold_max = []\n",
    "```\n",
    "\n",
    "In order to calculate the information gain and get the best thresholds, we need to go through every data that we have, in that case we need to loop through every column that we have and go through every row in each column and calculate the left node for our **X** and left node for our **y** and repeat the same thing for the right node and in the process, we will also acquire the threshold and the information gain\n",
    "\n",
    "```\n",
    "for i in range(X.shape[1]):     \n",
    "    self.list_info_gain = []    \n",
    "    self.Threshold = []\n",
    "            \n",
    "    for j in np.unique(X[:,i]):      \n",
    "        self.Threshold.append(j)     \n",
    "        self.X_right = X[X[:,i] >= j]               \n",
    "        self.y_right = y[X[:,i] >= j]             \n",
    "        self.X_left = X[X[:,i] < j]               \n",
    "        self.y_left = y[X[:,i] < j]\n",
    "        self.list_info_gain.append(self._info_gain(X, y)) \n",
    "                \n",
    "    self.list_info_gain_max.append(max(self.list_info_gain))\n",
    "    self.ind = self.list_info_gain.index(max(self.list_info_gain)) \n",
    "    self.threshold_max.append(self.Threshold[self.ind])\n",
    "```\n",
    "\n",
    "we are going to create a condition which we will use to create the right nodes and the left nodes **X[:,i] </>= j**, we will check if the values are greater or equal to the threshold we have selected and we will consider those values as the right side node, and we will do this for both **X** and **y** data, and we check for the left nodes as well,\n",
    "\n",
    "and after we will calculate the information gain using a helper function and the results returned we will store all of them in our variable created above\n",
    "\n",
    "```\n",
    "def _info_gain(self, X, y):\n",
    "        n = len(X)\n",
    "        IG = self._gini_impurity(X, y) - len(self.X_left) / n * self._gini_impurity(self.X_left, self.y_left) - len(self.X_right) / n * self._gini_impurity(self.X_right, self.y_right) \n",
    "        return IG\n",
    "```\n",
    "\n",
    "our info_gain helper function will use the gini impurity as we saw earlier when we were looking at the math behind, so the gini impurity will also be a helper function\n",
    "\n",
    "```\n",
    "def _gini_impurity(self, X, y):\n",
    "        a = 0\n",
    "        for i in np.unique(y):    \n",
    "            a += (len(y[y[:,0]==i]) / len(X)) ** 2      \n",
    "        self.gini = 1 - a\n",
    "        return self.gini\n",
    "```\n",
    "\n",
    "after our information gain is calculated, we will need to get the maximum value out of it and also the maximum value in the threshold, we also need the index of the maximum value of the information gain, and we will use it later in classifying our predictions\n",
    "\n",
    "```\n",
    "self.list_info_gain_max.append(max(self.list_info_gain))\n",
    "self.ind = self.list_info_gain.index(max(self.list_info_gain)) \n",
    "self.threshold_max.append(self.Threshold[self.ind])    \n",
    "```\n",
    "\n",
    "after getting our the threshold max and the information gain max, we need to get the value that are going to influence the splitting of our tree into left or right.\n",
    "\n",
    "first we are going to find the index of the maximum value in our list of maximum values of the information gain, and we are going to use it to get the decision threshold that will be based on to create the left and right split,\n",
    "and we will use the threshold to get the left and right split depending on if the value is greater or less than the threshold\n",
    "\n",
    "```\n",
    "self.ind2 = self.list_info_gain_max.index(max(self.list_info_gain_max)) \n",
    "self.dicision_threshold = self.threshold_max[self.ind2]\n",
    "self.Greater_label = stats.mode(y[X[: ,self.ind2] >= self.dicision_threshold]).mode \n",
    "self.Less_label = stats.mode(y[X[: ,self.ind2] < self.dicision_threshold]).mode \n",
    "```\n",
    "\n",
    "[stats.mode](https://docs.scipy.org/doc/scipy/reference/generated/scipy.stats.mode.html)"
   ]
  },
  {
   "cell_type": "code",
   "execution_count": 10,
   "id": "32a1e3ea",
   "metadata": {},
   "outputs": [],
   "source": [
    "class ScratchDecesionTreeClassifier():\n",
    "\n",
    "    def _gini_impurity(self, X, y):\n",
    "        a = 0\n",
    "        for i in np.unique(y):    \n",
    "            a += (len(y[y[:,0]==i]) / len(X)) ** 2      \n",
    "        self.gini = 1 - a\n",
    "        return self.gini\n",
    "    \n",
    "    def _info_gain(self, X, y):\n",
    "        n = len(X)\n",
    "        IG = self._gini_impurity(X, y) - len(self.X_left) / n * self._gini_impurity(self.X_left, self.y_left) - len(self.X_right) / n * self._gini_impurity(self.X_right, self.y_right) \n",
    "        return IG\n",
    "    \n",
    "    \n",
    "    def fit(self, X, y):\n",
    "        self.list_info_gain_max = []\n",
    "        self.threshold_max = []\n",
    "      \n",
    "        for i in range(X.shape[1]):     \n",
    "            self.list_info_gain = []    \n",
    "            self.Threshold = []\n",
    "            \n",
    "            for j in np.unique(X[:,i]):      \n",
    "                self.Threshold.append(j)      \n",
    "                self.X_right = X[X[:,i] >= j]                \n",
    "                self.y_right = y[X[:,i] >= j]             \n",
    "                self.X_left = X[X[:,i] < j]               \n",
    "                self.y_left = y[X[:,i] < j]\n",
    "                self.list_info_gain.append(self._info_gain(X, y)) \n",
    "                \n",
    "            self.list_info_gain_max.append(max(self.list_info_gain))\n",
    "            self.ind = self.list_info_gain.index(max(self.list_info_gain)) \n",
    "            self.threshold_max.append(self.Threshold[self.ind])  \n",
    "            \n",
    "        self.ind2 = self.list_info_gain_max.index(max(self.list_info_gain_max)) \n",
    "        self.dicision_threshold = self.threshold_max[self.ind2]\n",
    "        self.Greater_label = stats.mode(y[X[: ,self.ind2] >= self.dicision_threshold]).mode \n",
    "        self.Less_label = stats.mode(y[X[: ,self.ind2] < self.dicision_threshold]).mode "
   ]
  },
  {
   "cell_type": "markdown",
   "id": "85cceacf",
   "metadata": {},
   "source": [
    "### predict function\n",
    "\n",
    "In our predict function we are going to use the values we got from the fit function in order to classify the values that are uknown to our model\n",
    "\n",
    "our predict function will take in X data\n",
    "```\n",
    "model.predict(X)\n",
    "```\n",
    "\n",
    "we will start by create an ndarray that we are going to be broadcasting our prediction values in \n",
    "```\n",
    "self.y_pred = np.zeros(X.shape[0]).reshape(X.shape[0], 1)\n",
    "```\n",
    "\n",
    "we will use the labels created in the fit function and check with our conditions and replace the values in the y_pred\n",
    "```\n",
    "self.y_pred[X[: ,self.ind2] >= self.dicision_threshold] = self.Greater_label\n",
    "self.y_pred[X[: ,self.ind2] < self.dicision_threshold] = self.Less_label\n",
    "```\n",
    "\n",
    "after we return the predicted values\n",
    "```\n",
    "return y_pred\n",
    "```"
   ]
  },
  {
   "cell_type": "code",
   "execution_count": 11,
   "id": "68223c5d",
   "metadata": {},
   "outputs": [],
   "source": [
    "def predict(self, X):\n",
    "    self.y_pred = np.zeros(X.shape[0]).reshape(X.shape[0], 1)\n",
    "    self.y_pred[X[: ,self.ind2] >= self.dicision_threshold] = self.Greater_label\n",
    "    self.y_pred[X[: ,self.ind2] < self.dicision_threshold] = self.Less_label\n",
    "    return self.y_pred"
   ]
  },
  {
   "cell_type": "markdown",
   "id": "fa95a591",
   "metadata": {},
   "source": [
    "# <div class =\"alert alert-block alert-warning\" style='text-align:center'>\n",
    "<h2> Is it accurate? </h2>\n",
    "</div>"
   ]
  },
  {
   "cell_type": "markdown",
   "id": "2234a666",
   "metadata": {},
   "source": [
    "After we create our model from scratch we need to check how good it is by checking different scores and also by visualizing the decision region"
   ]
  },
  {
   "cell_type": "code",
   "execution_count": 12,
   "id": "9a6ea762",
   "metadata": {},
   "outputs": [],
   "source": [
    "class ScratchDecesionTreeClassifier():\n",
    "\n",
    "    def _gini_impurity(self, X, y):\n",
    "        a = 0\n",
    "        for i in np.unique(y):    \n",
    "            a += (len(y[y[:,0]==i]) / len(X)) ** 2      \n",
    "        self.gini = 1 - a\n",
    "        return self.gini\n",
    "    \n",
    "    def _info_gain(self, X, y):\n",
    "        n = len(X)\n",
    "        IG = self._gini_impurity(X, y) - len(self.X_left) / n * self._gini_impurity(self.X_left, self.y_left) - len(self.X_right) / n * self._gini_impurity(self.X_right, self.y_right) \n",
    "        return IG\n",
    "    \n",
    "    \n",
    "    def fit(self, X, y):\n",
    "        self.list_info_gain_max = []\n",
    "        self.threshold_max = []\n",
    "      \n",
    "        for i in range(X.shape[1]):     \n",
    "            self.list_info_gain = []    \n",
    "            self.Threshold = []\n",
    "            \n",
    "            for j in np.unique(X[:,i]):      \n",
    "                self.Threshold.append(j)      \n",
    "                self.X_right = X[X[:,i] >= j]                \n",
    "                self.y_right = y[X[:,i] >= j]             \n",
    "                self.X_left = X[X[:,i] < j]               \n",
    "                self.y_left = y[X[:,i] < j]\n",
    "                self.list_info_gain.append(self._info_gain(X, y)) \n",
    "                \n",
    "            self.list_info_gain_max.append(max(self.list_info_gain))\n",
    "            self.ind = self.list_info_gain.index(max(self.list_info_gain)) \n",
    "            self.threshold_max.append(self.Threshold[self.ind])  \n",
    "            \n",
    "        self.ind2 = self.list_info_gain_max.index(max(self.list_info_gain_max)) \n",
    "        self.dicision_threshold = self.threshold_max[self.ind2]\n",
    "        self.Greater_label = stats.mode(y[X[: ,self.ind2] >= self.dicision_threshold]).mode \n",
    "        self.Less_label = stats.mode(y[X[: ,self.ind2] < self.dicision_threshold]).mode \n",
    "        \n",
    "    def predict(self, X):\n",
    "        self.y_pred = np.zeros(X.shape[0]).reshape(X.shape[0], 1)\n",
    "        self.y_pred[X[: ,self.ind2] >= self.dicision_threshold] = self.Greater_label\n",
    "        self.y_pred[X[: ,self.ind2] < self.dicision_threshold] = self.Less_label\n",
    "        return self.y_pred"
   ]
  },
  {
   "cell_type": "code",
   "execution_count": 13,
   "id": "ec47417b",
   "metadata": {},
   "outputs": [
    {
     "data": {
      "text/plain": [
       "array([0., 1.])"
      ]
     },
     "execution_count": 13,
     "metadata": {},
     "output_type": "execute_result"
    }
   ],
   "source": [
    "iris = load_iris()\n",
    "X = iris.data[50:,:]\n",
    "y = iris.target[50:]\n",
    "X = X[:,[2,3]]\n",
    "y = np.where(y == 1, 1, 0)\n",
    "y = y.reshape(100,1)\n",
    "iris = np.hstack((y,X))\n",
    "np.unique(iris[:,0])"
   ]
  },
  {
   "cell_type": "code",
   "execution_count": 14,
   "id": "de10f596",
   "metadata": {},
   "outputs": [
    {
     "name": "stderr",
     "output_type": "stream",
     "text": [
      "C:\\Users\\Ibrahim\\AppData\\Local\\Temp\\ipykernel_9844\\4165017231.py:38: FutureWarning: Unlike other reduction functions (e.g. `skew`, `kurtosis`), the default behavior of `mode` typically preserves the axis it acts along. In SciPy 1.11.0, this behavior will change: the default value of `keepdims` will become False, the `axis` over which the statistic is taken will be eliminated, and the value None will no longer be accepted. Set `keepdims` to True or False to avoid this warning.\n",
      "  self.Greater_label = stats.mode(y[X[: ,self.ind2] >= self.dicision_threshold]).mode\n",
      "C:\\Users\\Ibrahim\\AppData\\Local\\Temp\\ipykernel_9844\\4165017231.py:39: FutureWarning: Unlike other reduction functions (e.g. `skew`, `kurtosis`), the default behavior of `mode` typically preserves the axis it acts along. In SciPy 1.11.0, this behavior will change: the default value of `keepdims` will become False, the `axis` over which the statistic is taken will be eliminated, and the value None will no longer be accepted. Set `keepdims` to True or False to avoid this warning.\n",
      "  self.Less_label = stats.mode(y[X[: ,self.ind2] < self.dicision_threshold]).mode\n"
     ]
    }
   ],
   "source": [
    "ScDt = ScratchDecesionTreeClassifier()\n",
    "ScDt.fit(X, y)"
   ]
  },
  {
   "cell_type": "code",
   "execution_count": 15,
   "id": "3b86f1c6",
   "metadata": {},
   "outputs": [
    {
     "data": {
      "text/plain": [
       "array([[1.],\n",
       "       [1.],\n",
       "       [1.],\n",
       "       [1.],\n",
       "       [1.],\n",
       "       [1.],\n",
       "       [1.],\n",
       "       [1.],\n",
       "       [1.],\n",
       "       [1.],\n",
       "       [1.],\n",
       "       [1.],\n",
       "       [1.],\n",
       "       [1.],\n",
       "       [1.],\n",
       "       [1.],\n",
       "       [1.],\n",
       "       [1.],\n",
       "       [1.],\n",
       "       [1.],\n",
       "       [0.],\n",
       "       [1.],\n",
       "       [1.],\n",
       "       [1.],\n",
       "       [1.],\n",
       "       [1.],\n",
       "       [1.],\n",
       "       [1.],\n",
       "       [1.],\n",
       "       [1.],\n",
       "       [1.],\n",
       "       [1.],\n",
       "       [1.],\n",
       "       [1.],\n",
       "       [1.],\n",
       "       [1.],\n",
       "       [1.],\n",
       "       [1.],\n",
       "       [1.],\n",
       "       [1.],\n",
       "       [1.],\n",
       "       [1.],\n",
       "       [1.],\n",
       "       [1.],\n",
       "       [1.],\n",
       "       [1.],\n",
       "       [1.],\n",
       "       [1.],\n",
       "       [1.],\n",
       "       [1.],\n",
       "       [0.],\n",
       "       [0.],\n",
       "       [0.],\n",
       "       [0.],\n",
       "       [0.],\n",
       "       [0.],\n",
       "       [1.],\n",
       "       [0.],\n",
       "       [0.],\n",
       "       [0.],\n",
       "       [0.],\n",
       "       [0.],\n",
       "       [0.],\n",
       "       [0.],\n",
       "       [0.],\n",
       "       [0.],\n",
       "       [0.],\n",
       "       [0.],\n",
       "       [0.],\n",
       "       [1.],\n",
       "       [0.],\n",
       "       [0.],\n",
       "       [0.],\n",
       "       [0.],\n",
       "       [0.],\n",
       "       [0.],\n",
       "       [0.],\n",
       "       [0.],\n",
       "       [0.],\n",
       "       [1.],\n",
       "       [0.],\n",
       "       [0.],\n",
       "       [0.],\n",
       "       [1.],\n",
       "       [1.],\n",
       "       [0.],\n",
       "       [0.],\n",
       "       [0.],\n",
       "       [0.],\n",
       "       [0.],\n",
       "       [0.],\n",
       "       [0.],\n",
       "       [0.],\n",
       "       [0.],\n",
       "       [0.],\n",
       "       [0.],\n",
       "       [0.],\n",
       "       [0.],\n",
       "       [0.],\n",
       "       [0.]])"
      ]
     },
     "execution_count": 15,
     "metadata": {},
     "output_type": "execute_result"
    }
   ],
   "source": [
    "ScDt.predict(X)"
   ]
  },
  {
   "cell_type": "code",
   "execution_count": 16,
   "id": "07d6bd29",
   "metadata": {},
   "outputs": [
    {
     "name": "stderr",
     "output_type": "stream",
     "text": [
      "C:\\Users\\Ibrahim\\AppData\\Local\\Temp\\ipykernel_9844\\4165017231.py:38: FutureWarning: Unlike other reduction functions (e.g. `skew`, `kurtosis`), the default behavior of `mode` typically preserves the axis it acts along. In SciPy 1.11.0, this behavior will change: the default value of `keepdims` will become False, the `axis` over which the statistic is taken will be eliminated, and the value None will no longer be accepted. Set `keepdims` to True or False to avoid this warning.\n",
      "  self.Greater_label = stats.mode(y[X[: ,self.ind2] >= self.dicision_threshold]).mode\n",
      "C:\\Users\\Ibrahim\\AppData\\Local\\Temp\\ipykernel_9844\\4165017231.py:39: FutureWarning: Unlike other reduction functions (e.g. `skew`, `kurtosis`), the default behavior of `mode` typically preserves the axis it acts along. In SciPy 1.11.0, this behavior will change: the default value of `keepdims` will become False, the `axis` over which the statistic is taken will be eliminated, and the value None will no longer be accepted. Set `keepdims` to True or False to avoid this warning.\n",
      "  self.Less_label = stats.mode(y[X[: ,self.ind2] < self.dicision_threshold]).mode\n"
     ]
    }
   ],
   "source": [
    "(X_train, X_test, y_train, y_test) = train_test_split(X, y, test_size=0.3, random_state=0)\n",
    "ScDt = ScratchDecesionTreeClassifier()\n",
    "ScDt.fit(X_train, y_train)\n",
    "y_pred = ScDt.predict(X_test)"
   ]
  },
  {
   "cell_type": "code",
   "execution_count": 17,
   "id": "834982d3",
   "metadata": {},
   "outputs": [
    {
     "name": "stdout",
     "output_type": "stream",
     "text": [
      "1.0\n",
      "0.7333333333333333\n",
      "0.846153846153846\n",
      "[[15  0]\n",
      " [ 4 11]]\n"
     ]
    }
   ],
   "source": [
    "print(\"{}\".format(precision_score(y_test,y_pred)))\n",
    "print(\"{}\".format(recall_score(y_test,y_pred)))\n",
    "print(\"{}\".format(f1_score(y_test,y_pred)))\n",
    "print(confusion_matrix(y_test, y_pred))"
   ]
  },
  {
   "cell_type": "markdown",
   "id": "fd81b5a8",
   "metadata": {},
   "source": [
    "# #### Decision region"
   ]
  },
  {
   "cell_type": "code",
   "execution_count": 18,
   "id": "0da64648",
   "metadata": {},
   "outputs": [],
   "source": [
    "def decision_region(X, y, model, step=0.01, title='decision region', xlabel='xlabel', ylabel='ylabel', target_names=['versicolor', 'virginica']):\n",
    "\n",
    "    # setting\n",
    "    scatter_color = ['red', 'blue']\n",
    "    contourf_color = ['pink', 'skyblue']\n",
    "    n_class = 2\n",
    "    marker = [\"o\", \"^\"]\n",
    "\n",
    "    # pred\n",
    "    mesh_f0, mesh_f1  = np.meshgrid(np.arange(np.min(X[:,0])-0.5, np.max(X[:,0])+0.5, step), np.arange(np.min(X[:,1])-0.5, np.max(X[:,1])+0.5, step))\n",
    "    mesh = np.c_[np.ravel(mesh_f0),np.ravel(mesh_f1)]\n",
    "    y_pred = model.predict(mesh).reshape(mesh_f0.shape)\n",
    "\n",
    "    # plot\n",
    "    plt.title(title)\n",
    "    plt.xlabel(xlabel)\n",
    "    plt.ylabel(ylabel)\n",
    "    plt.contourf(mesh_f0, mesh_f1, y_pred, n_class-1, cmap=ListedColormap(contourf_color))\n",
    "    plt.contour(mesh_f0, mesh_f1, y_pred, n_class-1, colors='y', linewidths=3, alpha=0.5)\n",
    "    for i, target in enumerate(np.unique(y)):\n",
    "        plt.scatter(X[y==target][:, 0], X[y==target][:, 1], s=80, color=scatter_color[i], label=target_names[i], marker=marker[i])\n",
    "    patches = [mpatches.Patch(color=scatter_color[i], label=target_names[i]) for i in range(n_class)]\n",
    "    plt.legend(handles=patches)\n",
    "    plt.legend()\n",
    "    plt.show()"
   ]
  },
  {
   "cell_type": "code",
   "execution_count": 19,
   "id": "d8007357",
   "metadata": {},
   "outputs": [
    {
     "data": {
      "image/png": "[encoded data removed]",
      "text/plain": [
       "<Figure size 640x480 with 1 Axes>"
      ]
     },
     "metadata": {},
     "output_type": "display_data"
    }
   ],
   "source": [
    "decision_region(X = X, y = y[:,0], model = ScDt, step=0.01, title='Decision_tree', xlabel='xlabel', ylabel='ylabel')"
   ]
  },
  {
   "cell_type": "code",
   "execution_count": 20,
   "id": "ed01d9bd",
   "metadata": {},
   "outputs": [
    {
     "data": {
      "image/png": "[encoded data removed]",
      "text/plain": [
       "<Figure size 640x480 with 1 Axes>"
      ]
     },
     "metadata": {},
     "output_type": "display_data"
    }
   ],
   "source": [
    "decision_region(X = X_test, y = y_test[:,0], model = ScDt, step=0.01, title='Decision_tree', xlabel='xlabel', ylabel='ylabel')"
   ]
  },
  {
   "cell_type": "code",
   "execution_count": null,
   "id": "70e1008d",
   "metadata": {},
   "outputs": [],
   "source": []
  }
 ],
 "metadata": {
  "kernelspec": {
   "display_name": "Python 3 (ipykernel)",
   "language": "python",
   "name": "python3"
  },
  "language_info": {
   "codemirror_mode": {
    "name": "ipython",
    "version": 3
   },
   "file_extension": ".py",
   "mimetype": "text/x-python",
   "name": "python",
   "nbconvert_exporter": "python",
   "pygments_lexer": "ipython3",
   "version": "3.9.13"
  }
 },
 "nbformat": 4,
 "nbformat_minor": 5
}
